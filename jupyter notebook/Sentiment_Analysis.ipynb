{
 "cells": [
  {
   "cell_type": "code",
   "execution_count": 102,
   "id": "341ebbfc",
   "metadata": {},
   "outputs": [
    {
     "name": "stderr",
     "output_type": "stream",
     "text": [
      "[nltk_data] Downloading package stopwords to\n",
      "[nltk_data]     C:\\Users\\KESAVAN\\AppData\\Roaming\\nltk_data...\n",
      "[nltk_data]   Package stopwords is already up-to-date!\n"
     ]
    },
    {
     "data": {
      "text/html": [
       "<div>\n",
       "<style scoped>\n",
       "    .dataframe tbody tr th:only-of-type {\n",
       "        vertical-align: middle;\n",
       "    }\n",
       "\n",
       "    .dataframe tbody tr th {\n",
       "        vertical-align: top;\n",
       "    }\n",
       "\n",
       "    .dataframe thead th {\n",
       "        text-align: right;\n",
       "    }\n",
       "</style>\n",
       "<table border=\"1\" class=\"dataframe\">\n",
       "  <thead>\n",
       "    <tr style=\"text-align: right;\">\n",
       "      <th></th>\n",
       "      <th>feed</th>\n",
       "      <th>text</th>\n",
       "      <th>clean_text</th>\n",
       "      <th>Negative_Sentiment_Flag</th>\n",
       "      <th>Positive_Sentiment_Flag</th>\n",
       "    </tr>\n",
       "  </thead>\n",
       "  <tbody>\n",
       "    <tr>\n",
       "      <th>0</th>\n",
       "      <td>positive</td>\n",
       "      <td>bad</td>\n",
       "      <td>bad</td>\n",
       "      <td>1</td>\n",
       "      <td>0</td>\n",
       "    </tr>\n",
       "    <tr>\n",
       "      <th>1</th>\n",
       "      <td>jkjkj</td>\n",
       "      <td>bad</td>\n",
       "      <td>bad</td>\n",
       "      <td>1</td>\n",
       "      <td>0</td>\n",
       "    </tr>\n",
       "  </tbody>\n",
       "</table>\n",
       "</div>"
      ],
      "text/plain": [
       "       feed  text clean_text  Negative_Sentiment_Flag  Positive_Sentiment_Flag\n",
       "0  positive   bad        bad                        1                        0\n",
       "1     jkjkj   bad        bad                        1                        0"
      ]
     },
     "execution_count": 102,
     "metadata": {},
     "output_type": "execute_result"
    }
   ],
   "source": [
    "import warnings\n",
    "warnings.filterwarnings('ignore')\n",
    "import pandas as pd\n",
    "import numpy as np\n",
    "import matplotlib.pyplot as plt\n",
    "import re\n",
    "import string\n",
    "from sklearn.model_selection import train_test_split\n",
    "from sklearn.linear_model import LogisticRegression\n",
    "from sklearn.naive_bayes import MultinomialNB\n",
    "from sklearn.metrics import classification_report,f1_score,accuracy_score,confusion_matrix\n",
    "from sklearn.metrics import roc_curve,auc,roc_auc_score\n",
    "from sklearn.feature_extraction.text import TfidfVectorizer\n",
    "from nltk.stem.porter import PorterStemmer\n",
    "from nltk.stem import WordNetLemmatizer\n",
    "import nltk\n",
    "from nltk.corpus import stopwords\n",
    "import re\n",
    "from collections import Counter\n",
    "\n",
    "a=\" bad\"\n",
    "kk='[{\"feed\": \"positive\", \"text\": \"'+a+'\" },{  \"feed\": \"jkjkj\",   \"text\": \"bad\" }]'\n",
    "TweetDataSubset=pd.read_json(kk)\n",
    "nltk.download(\"stopwords\")\n",
    "stop_words=set(stopwords.words(\"english\"))\n",
    "wordnet = WordNetLemmatizer()\n",
    "def text_preproc(x):\n",
    "    \n",
    "    x=''.join([word for word in x.split(' ')if word not in stop_words])\n",
    "    x=x.encode('ascii','ignore').decode()\n",
    "    x=re.sub(r'https*\\S+',' ',x)\n",
    "    x=re.sub(r'@\\S+',' ',x)\n",
    "    x=re.sub(r'#\\s+',' ',x)\n",
    "    x=re.sub(r'\\'\\w+','',x)\n",
    "    x=re.sub('[%s]'% re.escape(string.punctuation),'',x)\n",
    "    x=re.sub(r'\\w*\\d+\\w*','',x)\n",
    "    x=re.sub(r'\\s{2,}','',x)\n",
    "    return x\n",
    "TweetDataSubset['clean_text']=TweetDataSubset.text.apply(text_preproc)\n",
    "x_train,x_test,y_train,y_test=train_test_split(TweetDataSubset[\"clean_text\"],TweetDataSubset[\"feed\"],test_size=0.1,shuffle=True)\n",
    "tfidf_vectorizer=TfidfVectorizer(use_idf=True,max_features=100)\n",
    "x_train_vectors_tfidf=tfidf_vectorizer.fit_transform(x_train)\n",
    "x_test_vectors_tfidf=tfidf_vectorizer.transform(x_test)\n",
    "lr_tfidf=MultinomialNB()\n",
    "lr_tfidf.fit(x_train_vectors_tfidf,y_train)\n",
    "\n",
    "y_predict=lr_tfidf.predict(x_test_vectors_tfidf)\n",
    "y_prob=lr_tfidf.predict_proba(x_test_vectors_tfidf)[:]\n",
    "Counter(\"\".join(TweetDataSubset['clean_text']).split()).most_common(100)\n",
    "\n",
    "\n",
    "\n",
    "Positive_pattern_1=r\"thanks\"\n",
    "Positive_pattern_2=r\"thank\"\n",
    "Positive_pattern_3=r\"good\"\n",
    "Positive_pattern_4=r\"well\"\n",
    "Positive_pattern_5=r\"super\"\n",
    "Positive_pattern_6=r\"awesome\"\n",
    "Positive_pattern_7=r\"satisfied\"\n",
    "Positive_pattern_8=r\"great\"\n",
    "\n",
    "Postive_Pattern_List=[Positive_pattern_1,Positive_pattern_2,Positive_pattern_3,Positive_pattern_4,Positive_pattern_5,Positive_pattern_6,Positive_pattern_7,Positive_pattern_8]\n",
    "\n",
    "Positive_Complex_Pattern=re.compile('|'.join(['(%s)'% i for i in Postive_Pattern_List]),re.IGNORECASE)\n",
    "\n",
    "\n",
    "Negative_pattern_1=r\"cancelled\"\n",
    "Negative_pattern_2=r\"delayed\"\n",
    "Negative_pattern_3=r\"trying\"\n",
    "Negative_pattern_4=r\"please\"\n",
    "Negative_pattern_5=r\"wait\"\n",
    "Negative_pattern_6=r\"worst\"\n",
    "Negative_pattern_7=r\"bad\"\n",
    "Negative_pattern_8=r\"tough\"\n",
    "Negative_Pattern_List=[Negative_pattern_1,Negative_pattern_2,Negative_pattern_3,Negative_pattern_4,Negative_pattern_5,Negative_pattern_6,Negative_pattern_7,Negative_pattern_8]\n",
    "\n",
    "Negative_Complex_Pattern=re.compile('|'.join(['(%s)'% i for i in Negative_Pattern_List]),re.IGNORECASE)\n",
    "\n",
    "TweetDataSubset[\"Negative_Sentiment_Flag\"]=TweetDataSubset[\"clean_text\"].apply(lambda x:1 if(len(re.findall(Negative_Complex_Pattern,x))>0) else 0)\n",
    "\n",
    "TweetDataSubset[\"Positive_Sentiment_Flag\"]=TweetDataSubset[\"clean_text\"].apply(lambda x:1 if(len(re.findall(Positive_Complex_Pattern,x))>0) else 0)\n",
    "\n",
    "TweetDataSubset"
   ]
  },
  {
   "cell_type": "code",
   "execution_count": 103,
   "id": "e92ad0fd",
   "metadata": {},
   "outputs": [
    {
     "data": {
      "text/plain": [
       "[['positive', ' bad', 'bad', 1, 0], ['jkjkj', 'bad', 'bad', 1, 0]]"
      ]
     },
     "execution_count": 103,
     "metadata": {},
     "output_type": "execute_result"
    }
   ],
   "source": [
    "res=TweetDataSubset.values.tolist()\n",
    "res"
   ]
  },
  {
   "cell_type": "code",
   "execution_count": 107,
   "id": "588ffeaa",
   "metadata": {},
   "outputs": [
    {
     "name": "stdout",
     "output_type": "stream",
     "text": [
      "1.5\n"
     ]
    }
   ],
   "source": [
    "a=res[0][3]\n",
    "b=res[0][4]\n",
    "p2=b-a\n",
    "if(p2 >0 ):\n",
    "    print('postive')\n",
    "else:\n",
    "    tt=a+0.5\n",
    "    print(tt)"
   ]
  },
  {
   "cell_type": "code",
   "execution_count": null,
   "id": "b94d8f09",
   "metadata": {},
   "outputs": [],
   "source": []
  }
 ],
 "metadata": {
  "kernelspec": {
   "display_name": "Python 3 (ipykernel)",
   "language": "python",
   "name": "python3"
  },
  "language_info": {
   "codemirror_mode": {
    "name": "ipython",
    "version": 3
   },
   "file_extension": ".py",
   "mimetype": "text/x-python",
   "name": "python",
   "nbconvert_exporter": "python",
   "pygments_lexer": "ipython3",
   "version": "3.10.2"
  }
 },
 "nbformat": 4,
 "nbformat_minor": 5
}
