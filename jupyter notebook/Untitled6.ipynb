{
 "cells": [
  {
   "cell_type": "code",
   "execution_count": 1,
   "id": "050563a8",
   "metadata": {},
   "outputs": [],
   "source": [
    "import numpy as np # linear algebra\n",
    "import pandas as pd \n",
    "import seaborn as sns\n",
    "import matplotlib.pyplot as plt\n",
    "import plotly.express as px \n",
    "import difflib\n",
    "from sklearn.feature_extraction.text import TfidfVectorizer\n",
    "from sklearn.metrics.pairwise import cosine_similarity\n",
    "\n",
    "\n",
    "\n",
    "\n"
   ]
  },
  {
   "cell_type": "code",
   "execution_count": 2,
   "id": "0e9fc437",
   "metadata": {},
   "outputs": [],
   "source": [
    "\n",
    "df = pd.read_csv('course.csv')\n",
    "selected_features=['Name','Type','Category','Course_organization','Subcategory']\n"
   ]
  },
  {
   "cell_type": "code",
   "execution_count": 3,
   "id": "af75688b",
   "metadata": {},
   "outputs": [],
   "source": [
    "\n",
    "for feature in selected_features:\n",
    "    df[feature]=df[feature].fillna('')"
   ]
  },
  {
   "cell_type": "code",
   "execution_count": 4,
   "id": "0ca7aa15",
   "metadata": {},
   "outputs": [],
   "source": [
    "\n",
    "combined_features=df['Name']+''+df['Type']+''+df['Category']+''+df['Course_organization']+''+df['Subcategory']\n",
    "vectorizer=TfidfVectorizer()\n",
    "feature_vectors=vectorizer.fit_transform(combined_features)\n",
    "similarity=cosine_similarity(feature_vectors)\n"
   ]
  },
  {
   "cell_type": "code",
   "execution_count": 5,
   "id": "4e27ebf4",
   "metadata": {},
   "outputs": [
    {
     "data": {
      "text/plain": [
       "index                                                                1.0\n",
       "Name                   (ISC)Â² Systems Security Certified Practitione...\n",
       "Duration                                                          2.5hrs\n",
       "Price                                                             5000.0\n",
       "Course_difficulty                                               Beginner\n",
       "Course_organization                                              (ISC)Â²\n",
       "Category                                          information technology\n",
       "Subcategory                                                     security\n",
       "Type                                                              course\n",
       "Name: 0, dtype: object"
      ]
     },
     "execution_count": 5,
     "metadata": {},
     "output_type": "execute_result"
    }
   ],
   "source": [
    "df.loc[0]"
   ]
  },
  {
   "cell_type": "code",
   "execution_count": 6,
   "id": "489b1944",
   "metadata": {},
   "outputs": [
    {
     "name": "stdout",
     "output_type": "stream",
     "text": [
      "enter course nameSystems and Application Security\n",
      "['Systems and Application Security', 'Networks and Communications Sceurity']\n"
     ]
    }
   ],
   "source": [
    "\n",
    "c=input('enter course name')\n",
    "list_of_all_titles=df['Name'].tolist()\n",
    "find_close_match=difflib.get_close_matches(c,list_of_all_titles)\n",
    "print(find_close_match)"
   ]
  },
  {
   "cell_type": "code",
   "execution_count": 7,
   "id": "4a5e8b5d",
   "metadata": {},
   "outputs": [
    {
     "name": "stdout",
     "output_type": "stream",
     "text": [
      "7\n"
     ]
    }
   ],
   "source": [
    "close_match=find_close_match[0]\n",
    "index_of_the_movie=int(df[df.Name==close_match]['index'].values[0])\n",
    "print(index_of_the_movie)"
   ]
  },
  {
   "cell_type": "code",
   "execution_count": 8,
   "id": "bf51dfd8",
   "metadata": {},
   "outputs": [
    {
     "name": "stdout",
     "output_type": "stream",
     "text": [
      "course suggest for you :\n",
      "\n",
      "index                                        9.0\n",
      "Name                   AI for Medicine Diagnosis\n",
      "Duration                                  2.5hrs\n",
      "Price                                    24556.0\n",
      "Course_difficulty                   Intermediate\n",
      "Course_organization              DeepLearning.AI\n",
      "Category                            data science\n",
      "Subcategory                     machine learning\n",
      "Type                                      course\n",
      "Name: 8, dtype: object\n"
     ]
    }
   ],
   "source": [
    "similarity_score=list(enumerate(similarity[index_of_the_movie]))\n",
    "sorted_similar_movies=sorted(similarity_score,key= lambda x:x[1], reverse=True)\n",
    "print('course suggest for you :\\n')\n",
    "i=1\n",
    "lst=[]\n",
    "l=[]\n",
    "for course in sorted_similar_movies:\n",
    "    index=course[0]\n",
    "    title_from_index=df[df.index==index]['Name'].values[0]\n",
    "    if i<5:\n",
    "        lst.append(title_from_index)\n",
    "        i+=1\n",
    "for i in lst:\n",
    "    close_match=find_close_match[0]\n",
    "    index_of_the_movie=int(df[df.Name==i]['index'].values[0])\n",
    "    k=df.loc[index_of_the_movie]\n",
    "    l.append(k)\n",
    "print(l[0])\n",
    "    \n",
    "\n",
    "    \n",
    "    "
   ]
  },
  {
   "cell_type": "code",
   "execution_count": 9,
   "id": "5f31390a",
   "metadata": {},
   "outputs": [
    {
     "name": "stdout",
     "output_type": "stream",
     "text": [
      "index                                              13.0\n",
      "Name                   Supply Chain Management Sourcing\n",
      "Duration                                           5hrs\n",
      "Price                                            5214.0\n",
      "Course_difficulty                              Beginner\n",
      "Course_organization                             Rutgers\n",
      "Category                                       business\n",
      "Subcategory                          business essential\n",
      "Type                                             course\n",
      "Name: 12, dtype: object\n"
     ]
    }
   ],
   "source": [
    "l=[12,3,4,5]\n",
    "lc=[]\n",
    "for i in l:\n",
    "    k=df.loc[i]\n",
    "    lc.append(k)\n",
    "print(lc[0])\n"
   ]
  },
  {
   "cell_type": "code",
   "execution_count": 10,
   "id": "bc8c287c",
   "metadata": {},
   "outputs": [
    {
     "data": {
      "text/plain": [
       "[28.0,\n",
       " 'Data Science Fundamentals with Python and SQL',\n",
       " '6hrs',\n",
       " 577.0,\n",
       " 'Beginner',\n",
       " 'IBM',\n",
       " 'data science',\n",
       " 'data analysis',\n",
       " 'specialization']"
      ]
     },
     "execution_count": 10,
     "metadata": {},
     "output_type": "execute_result"
    }
   ],
   "source": [
    "tar=df.loc[df[\"Subcategory\"]==\"data analysis\"]\n",
    "res1=tar.values.tolist()\n",
    "res2=res1[0]\n",
    "res2"
   ]
  },
  {
   "cell_type": "code",
   "execution_count": null,
   "id": "2490b752",
   "metadata": {},
   "outputs": [],
   "source": []
  },
  {
   "cell_type": "code",
   "execution_count": null,
   "id": "940fd3d5",
   "metadata": {},
   "outputs": [],
   "source": []
  },
  {
   "cell_type": "code",
   "execution_count": null,
   "id": "8c4bbf3f",
   "metadata": {},
   "outputs": [],
   "source": []
  }
 ],
 "metadata": {
  "kernelspec": {
   "display_name": "Python 3 (ipykernel)",
   "language": "python",
   "name": "python3"
  },
  "language_info": {
   "codemirror_mode": {
    "name": "ipython",
    "version": 3
   },
   "file_extension": ".py",
   "mimetype": "text/x-python",
   "name": "python",
   "nbconvert_exporter": "python",
   "pygments_lexer": "ipython3",
   "version": "3.10.2"
  }
 },
 "nbformat": 4,
 "nbformat_minor": 5
}
